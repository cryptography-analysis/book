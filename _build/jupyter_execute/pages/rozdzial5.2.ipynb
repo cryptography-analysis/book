{
 "cells": [
  {
   "attachments": {},
   "cell_type": "markdown",
   "metadata": {},
   "source": [
    "# Rozdzial 5.2\n"
   ]
  },
  {
   "attachments": {},
   "cell_type": "markdown",
   "metadata": {},
   "source": [
    "# WCZEŚNIEJSZA KRYPROGRAFIA\n",
    "\n",
    "W tym rozdziale zostanie przedstawione zostaną wcześniejsze metody kryptoanalizy kolumnowego szyfru transpozycyjnego. Pierwsze zostaną opisane metody klasyczne i manualne stosowane w pierwszej połowie XX wieku. Następnie omówione będą nowoczesne metody komputerowe, które oparte są na lokalnych technikach wyszukiwania, a także ich ograniczania.\n",
    "\n",
    "---\n",
    "\n",
    "## Historia kryptoanalizy\n",
    "\n",
    "W przeszłości zostały opracowane ręczne sposoby do kryptoanalizy kolumnowych szyfrów transpozycyjnych, w tym dla przypadków takich jak CCT oraz ICT. Najpopularniejszym sposobem jest \"metoda paskowa\". Została opisana przez Fridemana, można stosować ją w CCT z krótkimi kluczami. W przypadku ICT można użyć \"diagramów kapeluszowych\", aby zastosować ten proces do wszystkich możliwych pozycji początkowych i końcowych kolumn. Metody te bywają uciążliwe dla przypadków kluczy dłuższych niż 20, zwłaszcza dla ICT. Innym przykładem metody manualnej jest \"wielokrotne anagramowanie\". Istnieją inne rozwiązania dla szczególnego przypadku, gdy dwa komunikaty są szyfrowane tym samym kluczem, a tekst jawny ma tę samą początkową lub końcową część. Metody te są stosowane, gdy identyczna część tekstu jest dłuższa niż kilka razy długość klucza. Najpierw kopiujemy każdy z szyfrogramów do prostokąta transpozycji. Następnie analizujemy sekwencje liter, które pojawiają się w jednej z kolumn pierwszego szyfrogramu, a także w jednej z kolumn drugiego szyfrogramu. Analizując związki między tymi kolumnami, które mają wspólne sekwencje, oraz dokładne położenie tych pasujących sekwencji, można odzyskać oryginalny klucz transpozycji. Ostatecznie istnieją rozwiązania dla szczególnych przypadków znanego początku lub końca tekstu. Na przykład, jeśli znany jest początek tekstu jawnego (a znana część tekstu jest dłuższa niż długość klucza), możliwe jest zidentyfikowanie liter, które pojawią się na początku kolumn. Poprzez dopasowanie tych liter do liter tekstu jawnego, można odzyskać klucz transpozycji. Podobną metodę można zastosować, jeśli znany jest koniec tekstu jawnego.\n",
    "\n",
    "---\n",
    "\n",
    "### Metoda paskowa\n",
    "\n",
    "Na początku tekst zaszyfrowany układany jest w kolumny na papierze, następnie zostaje pocięty na paski - każda kolumna w inny pasek. Potem następuje próba dopasowania do siebie pasków, tak aby tworzyły najbardziej prawdopodobne bigramy czyli pary nasępujących po sobie liter. Jednym z znanych bigramów jest Q, po którym zawsze nastąpi U. Po dopasowaniu bigramów następuje próba utworzenia trygramów, kwadragramów i tak do uzyskania pełnego klucza. \n",
    "\n",
    "---\n",
    "\n",
    "### Wielokrotne anagramowanie\n",
    "\n",
    "Metoda ta jest wykorzystana dla szczególnego przypadku dwóch tekstów jawnych, o tej samej długości oraz zaszyfrowanych tym samym kluczem. Dla obu tekstów permutacja liter jest identyczna dla ich tekstów jawnych. Wynika z tego, że każde anagramowanie niektórych liter tekstu, które da poprawidłowy tekst jawny dla pierwszego zaszyfrowanego tekstu, da również prawidłowy tekst jawny dla drugiego tekstu.\n",
    "\n",
    "---\n",
    "\n",
    "# NOWOCZESNA KRYPTOLOGIA\n",
    "\n",
    "Od lat 90. proponuje się komputerowe metody oparte na lokalnych technikach przeszukiwania do kryptoanalizy szyfru transpozycji kolumnowej. Matthews był jednym z pierwszych badaczy, którzy zastosowali algorytm genetyczny do kryptoanalizy szyfrów transpozycji kolumnowej w 1993 roku. Użył podzbioru najczęstszych bigramów i trigramów do obliczania wyniku, przypisując każdemu wagę. Dla szyfrogramu o długości |C| = 184, metoda Matthewsa pozwala na odzyskanie klucza o długości |K| = 9, co odpowiada ICT z r = 20 pełnymi wierszami i u = 4 długimi kolumnami.\n",
    "Giddy i Safavi-Naini wykorzystali symulowane wyżarzanie do kryptoanalizy szyfrów transpozycji kolumnowej w swojej pracy z 2000 roku. Użyli statystyk bigramów jako funkcji kosztu oraz losowych transformacji zwanych *G-Transpositions*, które są równoważne segmentowym przesunięciom. Ich algorytm jest w stanie odwzorować co najmniej 80% elementów klucza w następujących przypadkach CCT:\n",
    "\n",
    "* |K| = 15 i |C| = 255 (r = 17)\n",
    "* |K| = 20 i |C| = 500 (r = 25)\n",
    "* |K| = 25 i |C| = 500 (r = 20)  \n",
    "\n",
    "Clark porównuje trzy typy ataków na szyfry transpozycyjne kolumnowe: \n",
    "1. algorytm genetyczny, \n",
    "2. symulowane wypalanie, \n",
    "3. tablica przeszukiwań.   \n",
    "\n",
    "Do punktacji Clark używa nieco zmodyfikowanej wersji podzbioru bigramów i trigramów użytych przez Matthewa. Wszystkie trzy typy ataków korzystają z dwóch transformacji: (a) zamiany dwóch losowych elementów klucza i (b) losowych rotacji kolejnych segmentów klucza. Wyniki dla trzech metod są podobne. Aby odzyskać co najmniej 14 z 15 elementów klucza o długości |K| = 15, konieczne jest użycie tekstu jawnej o długości co najmniej |C| = 450 do 600 znaków, co odpowiada r = 30 do 40.\n",
    "Russell, Clark i Stepney łączą klasyczną metodę wielokrotnego anagramowania z algorytmem optymalizacji kolonii mrówek. Jako funkcje kosztu używają zarówno wyników bigramów, jak i dopasowań słownikowych. Dzięki tej metodzie możliwe jest pełne odzyskanie kluczy dla następujących przypadków (wszystkie to CCT):\n",
    "\n",
    "* |K|=15 i |C|=300(r=20) \n",
    "* |K|=20 i |C|=400(r=20) \n",
    "* |K|=25 i |C|=625(r=25)\n",
    "\n",
    "---\n",
    "\n",
    "Dimovski i Gligoroski stosują algorytm genetyczny, symulowane wypalanie i tablice przeszukiwań  do rozwiązywania szyfrów transpozycyjnych kolumnowych z punktacją opartą na bigramach.  Polega to na zamianie dwóch losowych elementów klucza. Wyniki są podobne dla wszystkich trzech technik, jak następuje:\n",
    "\n",
    "* Dla klucza o długości |K| = 15, potrzebne jest conajmniej |C| = 800 (r = 53) liter, aby odzyskać co najmniej 12 z 15 elementów klucza.\n",
    "\n",
    "* Dla klucza |K| = 30, konieczne jest co najmniej |C| = 1000 (r = 33) liter w szyfrogramie, aby odzyskać 25 z 30 elementów klucza.\n",
    "\n",
    "---\n",
    "\n",
    "Chen i Rosenthal stosują algorytm Markova Chain Monte Carlo do rozwiązywania szyfrów transpozycyjnych kolumnowych z wykorzystaniem punktacji bigramowej. Stosują transformacje składające się z (a) zamian pojedynczych elementów klucza i (b) przesuwania segmentów klucza. Ich wyniki są następujące:\n",
    "\n",
    "* Aby rozwiązać klucz o długości |K| = 20, wymagane jest między |C| = 500 a 1000 znaków tekstu jawnego (r od 25 do 50).\n",
    "\n",
    "* Klucze o długości |K|=30 mogą być również odzyskane (z prawdopodobieństwem sukcesu powyżej 80%) przy użyciu tekstu jawnego o długości |C|=2000 (r = 66)."
   ]
  },
  {
   "attachments": {},
   "cell_type": "markdown",
   "metadata": {},
   "source": []
  }
 ],
 "metadata": {
  "language_info": {
   "codemirror_mode": {
    "name": "ipython",
    "version": 3
   },
   "file_extension": ".py",
   "mimetype": "text/x-python",
   "name": "python",
   "nbconvert_exporter": "python",
   "pygments_lexer": "ipython3",
   "version": "3.10.6"
  }
 },
 "nbformat": 4,
 "nbformat_minor": 2
}