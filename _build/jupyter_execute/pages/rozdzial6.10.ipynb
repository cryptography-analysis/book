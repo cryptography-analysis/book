{
 "cells": [
  {
   "attachments": {},
   "cell_type": "markdown",
   "metadata": {},
   "source": [
    "# ADFGVX #\n",
    "## TŁO ##\n",
    "Szyfr ADFGVX jest to rozszerzenie szyfru ADFGX. Został zaprojektowany przez niemieckiego oficera wywiadu Fritza Nebela oraz wprowadzony przez armię niemiecką w czerwcu 1918 roku. Był najbardziej zaawansowanym szyfrem polowym. Został złamany przez francuskiego kryptoanalityka Georgesa Painvina. Dzięki odszyfrowaniu jednej z wiadomości nazywanej później: ,,Le Radiogramme de la Victoire” dostarczył sojusznikom ważne informacje na temat zbliżającej się wielkiej ofensywy niemieckiej. Zaszyfrowany tekst wyglądał tak:\n",
    "\n",
    "FGAXA XAXFF FAFVA AVDFA GAXFX FFAG DXGGX AGXFD XGAGX GAXGX AGXVF VXXAG XDDAX GGAAF DGGAF FXGGX XDFAX GXAXV AGXGG DFAGG GXVAX VFXGV FFGGA XDGAX FDVGG A\n",
    "\n",
    "Natomiast po odszyfrowaniu można odczytać tekst w języku niemieckim:\n",
    "\n",
    "Munitionierung beschleunigen Punkt Soweit nicht eingesehen auch bei Tag\n",
    "\n",
    "Francuskie tłumaczenie wyglądało następująco:\n",
    "\n",
    "„Przyśpieszcie dostawę amunicji, róbcie to nawet w ciągu dnia, dopóki nas nie widać”\n",
    "\n",
    "Nie wszyscy wiedzą, że szyfr ten był również wykorzystywany na froncie wschodnim, dzięki czemu Berlin mógł się komunikować z placówkami na wschodzie, takimi jak: Rumunia, Imperium Tureckie. Ruch ten przechwytywany był przez amerykańskie i brytyjskie siły od lipca do grudnia 1918r. Szyfr został częściowo rozszyfrowany przez Jamesa Rievra Childsa, który był oficerem sekcji G.2 A.6 Amerykańskich Sił Ekspedycyjnych. Napisał on kilka raportów ze swojej pracy oraz zachował dzienniki ruchu ADFGVX przechwyconego między wrześniem a grudniem 1918 roku. Zbiór niemieckich kryptogramów ADFGVX zapewnia unikalny wgląd w aliancki wywiad sygnałowy (SIGINT) i zdolności kryptoanalityczne pod koniec I wojny światowej. Niestety większość przechwyconych materiałów nie zachowała się. Jak twierdzi kanadyjski historyk John Ferris podczas I wojny światowej Armia Brytyjska zniszczyła „wszystkie, poza garstką, oryginalne pliki wywiadowcze”. Podobnie było z aktami armii niemieckiej, które w czasie i po II wojnie światowej zostały bardzo rozlegle zniszczone. Dlatego też współcześni badacze analizujący wiadomości ADFGVX z frontu wschodniego mają nie lada wyzwanie. Choć nie takie jak ówcześni badacze, zwłaszcza że wiele razy informacje przychodziły we fragmentach o różnej wartości, przez co prace wywiadowcze nie raz polegały na układaniu gigantycznej układanki z niezliczonych kawałków. Trzeba też zwrócić uwagę na to, że cała kryptoanaliza i analiza treści często wiązała się z dużą presją czasu i świadomością nieraz ogromnych konsekwencji z tym związanych. Jednak pomimo rozległych badań nad I wojną światową oraz dostępu do dokumentów niedawno odtajnionych nadal współcześni badacze borykają się z wieloma innymi  wyzwaniami. Jednym z nich na przykład jest fakt, że duża część ruchów ADFGVX pochodzi z okresu po podpisaniu przez delegację niemiecką rozejmu z Ententą w Compienge (11.11.1918 r.), który nie obejmuje większości badań historycznych. Dodatkowo dzienniki przechwytów, które zachował Childs są uporządkowane chronologicznie według czasu ich nadawania lub przechwycenia. Z jednej strony to dobrze, z drugiej jednak nie do końca, ponieważ obejmują bardzo rozległy obszar (od morza Bałtyckiego po Imperium Osmańskie włączając w to rejon Morza Czarnego, Gruzję, Rumunię, północny Irak). Dotyczą wielu różnych tematów takich jak: sytuacja polityczna i strategiczna w Niemczech i ich placówkach, sprawy techniczne, logistyczne i komunikacyjne oraz ruchy taktyczne wojsk niemieckich. Każdy z tych tematów wymaga badań, odwołań do historycznych, archiwalnych źródeł w celu ustalenia ich kontekstu oraz odtworzenia znaczenia.  Po rozszyfrowaniu depesz kolejnym krokiem współczesnych badaczy jest odtworzenie ich struktury i porządku w celu ich skompletowania. Następnie przystępowali do zrekonstruowania czytelnego tekstu niemieckiego i usunięcia „śmieci”. Kolejnym krokiem była identyfikacja znaków wywoławczych, akronimów, osób oraz podmiotów biorących udział w danej komunikacji. Ostatnim krokiem było powiązanie komunikatów z odpowiadającym kontekstem historycznym."
   ]
  }
 ],
 "metadata": {
  "language_info": {
   "codemirror_mode": {
    "name": "ipython",
    "version": 3
   },
   "file_extension": ".py",
   "mimetype": "text/x-python",
   "name": "python",
   "nbconvert_exporter": "python",
   "pygments_lexer": "ipython3",
   "version": "3.10.6"
  }
 },
 "nbformat": 4,
 "nbformat_minor": 2
}