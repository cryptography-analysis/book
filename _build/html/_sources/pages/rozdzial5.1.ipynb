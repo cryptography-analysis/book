{
 "cells": [
  {
   "attachments": {},
   "cell_type": "markdown",
   "metadata": {},
   "source": [
    "# Rozdzial 5.1\n"
   ]
  },
  {
   "attachments": {},
   "cell_type": "markdown",
   "metadata": {},
   "source": [
    "# ZASADA DZIAŁANIA\n",
    "Szyfr transpozycyjny kolumnowy działa na zasadzie przestawienia kolumn tekstu jawnego zgodnie z określonym kluczem transpozycji (co przedstawiono na rysynku poniżej). Klucz ten składa się z serii liczb, które określają kolejność transpozycji kolumn. Może być on wygenerowany na podstawie słowa kluczowego lub zdania kluczowego, co ułatwia jego zapamiętanie. Aby wygenerować klucz numeryczny z słowa kluczowego, każdej literze przypisuje się wartość liczbową odpowiadającą pozycji litery w alfabecie. Jeśli litera występuje w słowie kluczowym więcej niż raz, używane są kolejne wartości liczbowe.\n",
    "\n",
    "Do zaszyfrowania tekstu za pomocą szyfru transpozycyjnego kolumnowego należy wybrać klucz transpozycji, składający się z serii liczb określających kolejność przestawiania kolumn tekstu jawnego. Klucz ten można wygenerować na podstawie słowa lub zdania kluczowego, które są łatwiejsze do zapamiętania niż klucz numeryczny. Aby zaszyfrować tekst, należy przepisać go linia po linii do prostokąta o szerokości równoważnej długości klucza. Na górze prostokąta wpisuje się słowo kluczowe, a ponad nim - jego wartości numeryczne. Następnie, przestawiając kolumny zgodnie z kluczem transpozycji, tworzy się prostokąt szyfrogramu. Ostateczny szyfrogram uzyskuje się poprzez odczytanie tekstu kolumnami z prostokąta szyfrogramu.\n",
    "\n",
    "Proces deszyfrowania jest podobny, ale kroki wykonywane są w odwrotnej kolejności. Najpierw szyfrogram przepisuje się kolumnami do prostokąta, a następnie kolumny przestawia się zgodnie z odwrotnym kluczem transpozycji. Ostatecznie, tekst deszyfruje się poprzez odczytanie tekstu wierszami z prostokąta deszyfrowanego tekstu. Należy zwrócić uwagę na szczególną uwagę, jaką wymaga przypadek nieregularnego prostokąta transpozycji, w którym niektóre kolumny są dłuższe niż inne, co wymaga dodatkowych działań przy szyfrowaniu i deszyfrowaniu.\n",
    "\n",
    "# NOTACJA\n",
    "Klucz transpozycji oznaczamy w postaci numerycznej jako K, np. (3, 2, 7, 6, 4, 5, 1), a jego długość jako |K|. Tekst jawny (czyli przed szyfrowaniem) oznaczamy jako P, a jego długość jako |P|. Szyfrogram oznaczamy jako C, a jego długość jako |C|. Długość szyfrogramu zawsze jest równa długości tekstu jawnego, czyli |C| = |P|.\n",
    "\n",
    "Określamy liczbę pełnych lub całkowitych wierszy w prostokącie transpozycji jako r. Ponieważ szerokość prostokąta transpozycji jest równa długości klucza. W przypadku ICT ostatni wiersz nie jest kompletny, a niektóre z kolumn są dłuższe o jeden wiersz. Określamy liczbę długich kolumn jako u, którą obliczamy w następujący sposób: u = |C| mod |K|. Na podstawie naszej definicji ICT i CCT wynika, że u = 0 dla CCT i że u > 0 dla ICT.\n",
    "\n",
    "# ROZMIAR OBSZARU KLUCZA\n",
    "Dla klucza o długości |K| liczba możliwych i unikalnych kluczy wynosi |K|!.\n"
   ]
  },
  {
   "cell_type": "code",
   "execution_count": null,
   "metadata": {
    "vscode": {
     "languageId": "plaintext"
    }
   },
   "outputs": [],
   "source": [
    "def tL(text):\n",
    "    i = 0\n",
    "    for x in text:\n",
    "        i=i+1\n",
    "    return i\n",
    "\n",
    "keyLength = 7\n",
    "text = \"\"\"theclassicaltranspositionciphertransposestext\"\"\"\n",
    "textLength = tL(text)\n",
    "fullRows = textLength//keyLength\n",
    "longCols = textLength % keyLength\n",
    "key = []\n",
    "randKey = 0\n",
    "print(\"Tekst:\\n\",text)\n",
    "key = [3, 2, 7, 6, 4, 5, 1]\n",
    "textMatrixCols = []\n",
    "for i in range(keyLength):\n",
    "    textMatrixCols.append(\"\")\n",
    "    for j in range(fullRows+1):\n",
    "        if i+keyLength*j < tL(text):\n",
    "            textMatrixCols[i] += text[i+j*keyLength]\n",
    "        else:\n",
    "            textMatrixCols[i] += \" \"\n",
    "#print(textMatrixCols)\n",
    "cTMatrixCols = []\n",
    "cT = \"\"\n",
    "for i in range(keyLength):\n",
    "    cTMatrixCols.append(\"\")\n",
    "for i in range(keyLength):\n",
    "    cTMatrixCols[key[i]-1] = textMatrixCols[i]\n",
    "#print(cTMatrixCols)\n",
    "for i in range(keyLength):\n",
    "    for j in range(fullRows+1):\n",
    "        if cTMatrixCols[i][j] != \" \":\n",
    "            cT+=cTMatrixCols[i][j];\n",
    "print(\"\\n---\\nZaszyfrowany:\\n\", cT)\n",
    "testMatrix = []\n",
    "testKey = [3, 2, 7, 6, 4, 5, 1]\n",
    "pT = \"\"\n",
    "for i in range(keyLength):\n",
    "    testMatrix.append(\"\")\n",
    "for i in range(keyLength):\n",
    "    testMatrix[i] = cTMatrixCols[testKey[i]-1]\n",
    "#print(testMatrix)\n",
    "for j in range(fullRows+1):\n",
    "    for i in range(keyLength):\n",
    "        if testMatrix[i][j] != \" \":\n",
    "            pT+=testMatrix[i][j];\n",
    "print(\"\\n---\\nOdszyfrowany:\\n\",pT)\n",
    "if text == pT:\n",
    "    print(\"\\nDziała\")"
   ]
  }
 ],
 "metadata": {
  "language_info": {
   "name": "python"
  },
  "orig_nbformat": 4
 },
 "nbformat": 4,
 "nbformat_minor": 2
}
