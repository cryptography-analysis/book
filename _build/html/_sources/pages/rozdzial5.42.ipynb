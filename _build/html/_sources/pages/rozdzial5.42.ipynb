{
 "cells": [
  {
   "attachments": {},
   "cell_type": "markdown",
   "metadata": {},
   "source": [
    "# Szyfrogram"
   ]
  },
  {
   "attachments": {},
   "cell_type": "markdown",
   "metadata": {},
   "source": [
    "## Szyfrogram\n",
    "\n",
    "Tekst do zaszyfrowania jest to wyjęte zdanie z tekstu przygotowanego przez koleżankę z teamu.\n",
    "Tekst który będziemy szyfrować: 'The older matters which had made the sculptors dream'.\n",
    "\n",
    "Tabela plain tekstu wygląda następująco:\n",
    "\n",
    "|1|2|3|4|5|6| <br />\n",
    "|t|h|e|o|l|d| <br /> \n",
    "|e|r|m|a|t|t| <br />\n",
    "|e|r|s|w|h|i| <br />\n",
    "|c|h|h|a|d|m| <br />\n",
    "|a|d|e|t|h|e| <br />\n",
    "|s|c|u|l|p|t| <br />\n",
    "|o|r|s|d|r|e| <br />\n",
    "|a|m| <br />\n",
    "\n",
    "Tabela szyfrująca:\n",
    "\n",
    "|5|2|3|6|4|1| <br />\n",
    "|l|h|e|d|o|t| <br />\n",
    "|t|r|m|t|a|e| <br />\n",
    "|h|r|s|i|w|e| <br />\n",
    "|d|h|h|m|a|c| <br />\n",
    "|h|d|e|e|t|a| <br />\n",
    "|p|c|u|t|l|s| <br />\n",
    "|r|r|s|e|d|o| <br />\n",
    "|m|a| <br />\n",
    "\n",
    "Tekst po zaszyfrowaniu wygląda następująco: 'lthdhprhrrhdcrmemsheusdtimeteoawatldteecasoa'."
   ]
  }
 ],
 "metadata": {
  "language_info": {
   "name": "python"
  },
  "orig_nbformat": 4
 },
 "nbformat": 4,
 "nbformat_minor": 2
}
