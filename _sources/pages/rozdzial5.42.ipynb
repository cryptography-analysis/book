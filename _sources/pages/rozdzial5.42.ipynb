{
 "cells": [
  {
   "attachments": {},
   "cell_type": "markdown",
   "metadata": {},
   "source": [
    "# Szyfrogram"
   ]
  },
  {
   "attachments": {},
   "cell_type": "markdown",
   "metadata": {},
   "source": [
    "## Szyfrogram\n",
    "\n",
    "Tekst do zaszyfrowania jest to wyjęte zdanie z tekstu opowiadania.\n",
    "Tekst który będziemy szyfrować: 'The older matters which had made the sculptors dream'.\n",
    "\n",
    "Teabela plain tekstu wygląda następująco:\n",
    "\n",
    "|1|2|3|4|5|6|\n",
    "|t|h|e|o|l|d|\n",
    "|e|r|m|a|t|t|\n",
    "|e|r|s|w|h|i|\n",
    "|c|h|h|a|d|m|\n",
    "|a|d|e|t|h|e|\n",
    "|s|c|u|l|p|t|\n",
    "|o|r|s|d|r|e|\n",
    "|a|m|\n",
    "\n",
    "Tabela szyfrująca:\n",
    "\n",
    "|5|2|3|6|4|1|\n",
    "|l|h|e|d|o|t|\n",
    "|t|r|m|t|a|e|\n",
    "|h|r|s|i|w|e|\n",
    "|d|h|h|m|a|c|\n",
    "|h|d|e|e|t|a|\n",
    "|p|c|u|t|l|s|\n",
    "|r|r|s|e|d|o|\n",
    "|m|a|\n",
    "\n",
    "Tekst po zaszyfrowaniu wygląda następująco: 'lthdhprhrrhdcrmemsheusdtimeteoawatldteecasoa'."
   ]
  }
 ],
 "metadata": {
  "language_info": {
   "name": "python"
  },
  "orig_nbformat": 4
 },
 "nbformat": 4,
 "nbformat_minor": 2
}
