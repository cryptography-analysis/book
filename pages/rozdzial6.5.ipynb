{
 "cells": [
  {
   "attachments": {},
   "cell_type": "markdown",
   "metadata": {},
   "source": [
    "# Rozdzial 6.5\n"
   ]
  },
  {
   "attachments": {},
   "cell_type": "markdown",
   "metadata": {},
   "source": [
    "## Odczytywanie wiadomości ADFGVX z Frontu Wschodniego\n",
    "\n",
    "W tej sekcji opisujemy strukturę i format kryptogramów. Opisujemy również proces krok po kroku, który został użyty do odzyskania wszystkich kluczy szyfrowania i odszyfrowania wiadomości.\n",
    "\n",
    "6.5.1 WIADOMOŚCI \n",
    "\n",
    "W tej sekcji przedstawiono proces odszyfrowywania wiadomości szyfrowanych za pomocą ADFGVX na froncie wschodnim w czasie I wojny światowej. Wiadomości były publikowane przez Aegean Park Press w 2000 roku i składały się z dzienników przechwytu. Każda wiadomość składała się z nagłówka wysłanego w tekście jawnym, który zawierał informacje o stacji odbiorczej, dacie i czasie przesłania, długości kryptogramu i liczbie części. Kryptogramy z tego samego dnia zwykle pojawiały się kolejno. Symbole ADFGVX były transkrybowane w grupach po 5 symboli. Wiadomości z Frontu Wschodniego były szyfrowane kluczami ważnymi przez trzy dni, ale niektóre z kryptogramów były dłuższe niż 400 symboli, mimo zasad dotyczących dzielenia dłuższych wiadomości na części.\n",
    "\n",
    "Na pierwszej linii znajdują się sygnatury stacji odbiorczych oraz informacja o nadawcy. Na drugiej linii umieszczane są informacje o odbiorcy, takie jak nazwa lub lokalizacja oraz godzina i dzień transmisji. Wiadomość może składać się z wielu części, a każda część zawiera oddzielny kryptogram z nagłówkiem informującym o numerze części, kluczu szyfrującym i długości kryptogramu. Kryptogramy są zapisywane w grupach po pięć symboli ADFGVX, a długość i czas transmisji, jak również czas przechwycenia, są przekazywane w jawnym tekście. Grupowanie symboli może pomóc w identyfikacji problemów związanych z odbiorem i przepisywaniem. Nagłówki części wiadomości są ważne z kryptograficznego punktu widzenia, ponieważ zawierają informacje o kluczach szyfrujących i długości kryptogramu. Operatorzy stacji przechwytującej dodają informacje, takie jak datę i czas odbioru, które mogą być przydatne w analizie wiadomości. Zapisanie kryptogramów w grupach po pięć symboli ADFGVX ułatwia wykrycie problemów z odbiorem lub przepisywaniem, takich jak błędy w transkrypcji.\n",
    "\n",
    "W całkowitej liczbie istnieje około 460 wiadomości zaszyfrowanych przy użyciu techniki ADFGVX, z czego wiele z nich składa się z wielu kryptogramów ADFGVX. W sumie jest około 668 kryptogramów ADFGVX, jeśli pominie się powtórzenia identycznych wiadomości. Najstarsza wiadomość pochodzi z 19 września 1918 roku, a najnowsza z 7 grudnia 1918 roku. Średnia długość kryptogramu wynosi 215 symboli. Około 7% z nich ma mniej niż 100 symboli, 80% mieści się w przedziale 100-300, a 13% jest dłuższych niż 300 symboli. Najkrótszy kryptogram ma 36 symboli, a najdłuższy - 500 (13 z nich ma więcej niż 400 symboli).\n",
    "\n",
    "Okazuje się, że około jednej trzeciej kryptogramów zawiera niepełną transkrypcję lub błędy w transkrypcji. To nie obejmuje liter zniekształconych, które są widoczne dopiero po odszyfrowaniu wiadomości. Po odszyfrowaniu kryptogramów okazało się, że prawie wszystkie z nich zawierają zniekształcone litery. Najczęstsze błędy w transkrypcji, które są widoczne jeszcze przed próbą odszyfrowania kryptogramu, to symbole transkrybowane jako myślnik, błędy polegające na transkrypcji tylko 3 lub 4 zamiast oczekiwanych 5 symboli, błędne symbole ADFGVX (np. U lub B), brakujące segmenty kryptogramów, a także niezgodność liczby symboli transkrybowanych z informacją o ich długości przesłaną w tekście jawnym. Często też zdarza się, że liczba symboli w tekście jawnym jest liczbą nieparzystą, co jest wyraźnym błędem, ponieważ taka sytuacja nie może wystąpić w poprawnie zaszyfrowanej wiadomości ADFGVX.\n",
    "\n",
    "6.5.2 ODNAWIANIE KLUCZY\n",
    "\n",
    "Aby odzyskać klucze, pierwszym krokiem było zeskanowanie kryptogramów z książki. Następnie zastosowaliśmy OCR, używając otwartoźródłowego oprogramowania Tesseract, ograniczając zbiór ważnych znaków do A, D, F, G, V, X i znaku myślnika. Porównaliśmy wyniki OCR z oryginalnymi kryptogramami, poprawiliśmy błędy OCR i usunęliśmy części tekstu, które nie stanowiły części kryptogramów, takie jak tekst jawny.\n",
    "\n",
    "Kolejnym krokiem było podzielenie kryptogramów na grupy, które prawdopodobnie zostały przechwycone w tym samym dniu. Na tym etapie zignorowaliśmy wszystkie kryptogramy z błędami transkrypcji i użyliśmy dwóch trzecich kryptogramów bez takich błędów. Dla każdej grupy dziennie zastosowaliśmy algorytm opisany w sekcji 6.4, testując wszystkie długości kluczy od 15 do 25. Dzięki tej metodzie udało nam się odzyskać większość kluczy na większość dni. Jak się spodziewaliśmy, te same klucze były w użyciu przez trzy kolejne dni. Z tymi kluczami większość kryptogramów z danego dnia można było odszyfrować, ale niektóre nie. Podejrzewaliśmy, że niektóre kryptogramy przechwycone w tym samym dniu nie należą do tego samego klucza. Inne kryptogramy miały poważne błędy, albo były niepoprawnie zaszyfrowane, przesłane, przechwycone lub przepisane. Jednakże, to nie powstrzymało nasz algorytm od odzyskania większości kluczy, ponieważ działał dobrze nawet jeśli było dużo zakłóceń. Jest również wystarczająco odporny, aby działać nawet jeśli do 20% kryptogramów nie należy do tego samego klucza.\n",
    "\n",
    "Wiadomości z 1, 2 i 3 listopada stanowią szczególny przypadek. Przy próbie zastosowania kryptoanalizy na wszystkich wiadomościach z tych dni, klucz nie mógł zostać pomyślnie odzyskany. Podejrzewaliśmy, że może być zaangażowany więcej niż jeden klucz. Ponownie zastosowaliśmy algorytm na mniejszych podzbiorach kryptogramów z tych dni, próbując różnych kombinacji kryptogramów. Udało nam się odzyskać dwa różne klucze dla tych dni, z niektórymi kryptogramami deszyfrującymi się na jednym kluczu, a inne na drugim kluczu.\n",
    "Następnie stworzyliśmy bazę danych wszystkich tych kluczy i ponownie próbowaliśmy zdeszyfrować każdy z kryptogramów, próbując każdego z kluczy. Udało nam się uzyskać poprawne deszyfrowanie dla prawie wszystkich kryptogramów, które nie miały błędów transkrypcji, około 400 w sumie. Okazało się, że wiele kryptogramów zostało niewłaściwie umieszczonych w dziennikach i można je było odszyfrować, używając klucza z innego dnia.\n",
    "\n",
    "6.5.3 OBSŁUGA BŁĘDÓW\n",
    "\n",
    "W dalszej części pracy autorzy zajęli się obsługą błędów. Zajęli się około 250 kryptogramami, które zawierały błędy transkrypcji lub nie dało się ich odszyfrować za pomocą kluczy. Jeśli w wiadomości zamiast symboli były myślniki, zastosowali procedurę opisaną w pracy. W szyfrze ADFGVX każdy znak tekstu jawnego jest zastępowany przez parę symboli ADFGVX przed transpozycją. Jeśli tylko jeden symbol został poprawnie przepisany, a drugi został zastąpiony myślnikiem, istnieje tylko 6 możliwych opcji dla brakującego symbolu. Dlatego też istnieje tylko 6 możliwych opcji dla oryginalnego znaku tekstu jawnego spośród 36 możliwych opcji (od a do z, od 0 do 9). Autorzy przedstawili przykład wiadomości, w której dwa litery zostały zastąpione myślnikami i zastosowali procedurę, aby odzyskać poprawne litery. Około 110 kryptogramów zawierało drobne błędy transkrypcji, które w większości przypadków można było łatwo skorygować przy użyciu opisanej procedury. Podobna procedura została również zastosowana dla kryptogramów zawierających grupy z mniej niż 5 symbolami. Dla grupy z więcej niż 5 symbolami, na przykład GDFAXV, przetestowano tylko 6 przypadków, usuwając w każdym przypadku jedną z 6 liter i wybierając najbardziej prawdopodobny tekst jasny. Ponadto około 34 kryptogramy miały poprawną długość, ale dużą liczbę myślników. W większości przypadków można było odzyskać tylko część brakujących znaków tekstu jawnego przy użyciu tej samej procedury. Niemniej jednak, duże części kryptogramów można było odczytać.\n",
    "\n",
    "Dla tych kryptogramów, których liczba zapisanych symboli przekraczała długość określoną w tekście jawnym, usuwano odpowiednią ilość symboli, z początku lub końca kryptogramu. Jeśli to nie pomagało, testowano każdą możliwą pozycję w kryptogramie. Dla kryptogramów, w których zbyt mało symboli było zapisanych w porównaniu do długości podanej w tekście jawnym, procedura była bardziej skomplikowana. Dodawano grupy myślników w różnych pozycjach w kryptogramie i wybierano pozycję, która dawała najlepszy sens tekstu jawnego. Następnie próbowano odzyskać niektóre symbole zaznaczone jako myślnik, używając opisanej powyżej metody. Dzięki tym żmudnym i głównie ręcznym procedurom udało się odzyskać 27 wiadomości o błędnych długościach. Choć zazwyczaj wynikały one z problemów z przechwytywaniem, takie kryptogramy z błędnymi długościami mogły również wynikać z błędów w szyfrowaniu. W takich przypadkach ani niemiecka strona odbiorcza, ani Brytyjczycy, którzy przechwycili te wiadomości, nie byli w stanie ich odszyfrować. 50 kryptogramów nie mogło zostać odzyskanych żadną z opisanych powyżej procedur. Spośród tych 50 kryptogramów, 36 miało zbyt wiele brakujących grup, głównie z powodu zakłóceń, co wskazują również komentarze takie jak \"zakłócenia\" w dziennikach przechwytów. Pozostałe 14 miało poprawną długość, ale nie mogło zostać zdeszyfrowane żadnym z kluczy. Podejrzewa się, że większość tych 14 kryptogramów została prawdopodobnie źle zaszyfrowana.\n",
    "\n",
    "6.5.4 OSTATECZNE KLUCZE\n",
    "\n",
    "Następnie podzielono odzyskane kryptogramy na grupy według odpowiadających im kluczy, a następnie ponownie uruchomiono program kryptoanalizy, tym razem używając już uzyskanych wcześniej kluczy transpozycji i biorąc pod uwagę tylko część rozwiązującą podstawienia. Celem było uzyskanie dokładniejszych kluczy podstawienia na podstawie większej liczby kryptogramów dla każdego klucza.\n",
    "\n",
    "Ostatecznie porównano odzyskane klucze z kluczami podanymi przez Childsa w ostatniej części jego książki. Wyniki są następujące: osiem z czternastu kluczy transpozycji, które zostały odzyskane, jest identycznych z kluczami Childsa, ale istnieją pewne różnice w kluczach podstawienia, wynikające głównie z faktu, że algorytm nie jest w stanie dokładnie określić pozycji cyfr od 0 do 9 w kwadracie Polybiusza. Osiągnięcie tego może wymagać analizy ruchu, a nie kryptoanalizy. Analiza ruchu jednak wymaga dodatkowych źródeł wywiadu, na przykład do rozpoznawania numerów jednostek. Dodatkowo, dla niektórych kluczy podstawienia, Childs pozostawił jako puste symbole, których nie mógł dokładnie zidentyfikować.\n",
    "\n",
    "Dwie kolejne klucze zostały podane przez Childsa, ale zawierały błędy, tak że wiadomości nie mogły być nimi odszyfrowane. W jednym przypadku błąd był w kluczu transpozycji (brakujący element), a w drugim przypadku błąd był w kwadracie podstawienia (dwa wiersze kwadratu zostały zamienione miejscami). Program był w stanie odzyskać poprawne klucze.\n",
    "\n",
    "Odzyskano również cztery dodatkowe klucze, które nie występują w książce Childsa. Odnoszą się one do okresu od 19 listopada do początku grudnia 1918 roku.\n",
    "\n",
    "Ostateczne klucze przedstawione są w Tabeli 6.2."
   ]
  },
  {
   "cell_type": "code",
   "execution_count": null,
   "metadata": {},
   "outputs": [],
   "source": [
    "print(\"work\")"
   ]
  },
  {
   "attachments": {},
   "cell_type": "markdown",
   "metadata": {},
   "source": [
    "Tu pojawi sie opis "
   ]
  }
 ],
 "metadata": {
  "language_info": {
   "name": "python"
  },
  "orig_nbformat": 4
 },
 "nbformat": 4,
 "nbformat_minor": 2
}
