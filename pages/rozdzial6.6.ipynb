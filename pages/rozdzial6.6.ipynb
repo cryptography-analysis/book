{
 "cells": [
  {
   "attachments": {},
   "cell_type": "markdown",
   "metadata": {},
   "source": [
    "# Rozdzial 6.6\n"
   ]
  },
  
  {
   "attachments": {},
   "cell_type": "markdown",
   "metadata": {},
   "source": [
    "Analiza Historyczna\n\n Żeby uzyskać szerszą perspektywę odnośnie szyfrów ADFGX/ADFGXVX, warto zapoznać się z kontekstem historycznym, skupiając się przede wszystkim na ogólnym obrazie niemieckich możliwości na polu kryptografii i kryptoanalizy w przeddzień I wojny światowej oraz w jej trakcie a także podejściu aliantów do tegoż zagadnienia."
   ]
  }
 ],
 "metadata": {
  "language_info": {
   "name": "python"
  },
  "orig_nbformat": 4
 },
 "nbformat": 4,
 "nbformat_minor": 2
}
