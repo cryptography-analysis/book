{
 "cells": [
  {
   "attachments": {},
   "cell_type": "markdown",
   "metadata": {},
   "source": [
    "# Rozdzial 6.6\n"
   ]
  },
  
 {
   "cell_type": "code",
   "execution_count": null,
   "metadata": {},
   "outputs": [],
   "source": [
    "print(\"work\")"
   ]
  },
  
  {
   "attachments": {},
   "cell_type": "markdown",
   "metadata": {},
   "source": [
    "Analiza Historyczna"
    "Żeby uzyskać szerszą perspektywę odnośnie szyfrów ADFGX/ADFGXVX, warto zapoznać się z kontekstem historycznym, skupiając się przede wszystkim na ogólnym obrazie niemieckich możliwości na polu kryptografii i kryptoanalizy w przeddzień I wojny światowej oraz w jej trakcie a także podejściu aliantów do tegoż zagadnienia."
   "Braki w kryptoanalizie Niemców"
    "W „The Codebrakers”, David Kahn pisze: „Niemiecka kryptologia ślepo podążała w kierunku wojny wyposażona w ciężkie działa kryptografii i bez żadnej kryptoanalizy”. W 1914 roku niemiecka armia i marynarka były dobrze wyposażone w sprzęt bezprzewodowy jednak nie zdawali sobie sprawy z korzyści jak i niebezpieczeństw jakie niosła wówczas nowa technologia związana z komunikacją radiową. Ich dumne i sztywne usposobienie nie ułatwiało krytycznego myślenia i inicjatywy na niższych szczeblach. Podczas przygotowywań do wojny, dowództwo zabraniało swoim podwładnym na przechwytywanie komunikatów pochodzących od przeciwników. W marynarce wydarzył się nawet przypadek ukarania marynarza, który poinformował swoich przełożonych o przechwyceniu i odszyfrowaniu wiadomości wymienianych między dwoma punktami radiowymi. Generałowie Kaisera Wilhelma II (ówczesnego króla Prus) głęboko wierzyli w to, że zwyciężą w wojnie dzięki piechocie, artylerii i kawalerii tak jak swego czasu w zwycięskiej wojnie francusko-pruskiej w latach 1870-71. Bezpieczeństwo komunikacji czy łamanie szyfrów nie było rozważane jako coś istotnego.
Co więcej, niedługo po wybuchu wojny Niemcy ponieśli wielkie straty na polu rozpoznania elektromagnetycznego co miało w późniejszych latach niemałe konsekwencje. W sierpniu 1914, brytyjscy żołnierze z Royal Navy pocięli niemieckie kable telegraficzne znajdujące się pod wodą. Niemcy byli zmuszeni do przeorganizowania swojego systemu komunikacji i polegania bardziej na bezprzewodowych środkach co wiązało się z wystawieniem na niebezpieczeństwo przechwytywania komunikatów przez wroga. Dodatkowo, francuscy kryptologowie mieli tę przewagę nad swoimi niemieckimi kolegami po fachu, że posiadali w swoich szeregach grupę doświadczonych kryptografów, którzy obserwowali niemiecką armię jeszcze podczas jej manewrów przed wojną. Przewaga ta objawiła się już w początkowej fazie wojny, kiedy z sukcesem udała się im deszyfracja UBCHI - podstawowego kodu stosowanego przez Niemców co odegrało kluczową rolę na froncie wschodnim.
Oddziały niemieckie nie miały wpojonego używania sygnałów bezpieczeństwa więc często komunikowały się używając tekstu jawnego. Wywiad strategiczny Francji i Niemiec nie działał zbyt prężnie. Sztab Generalny Niemiec używał wywiadu wojskowego w zasadzie jedynie do pozyskiwania informacji dotyczących taktyki. Niemcy mieli ograniczone informacje na temat armii brytyjskiej z tego powodu, że jedynie marynarka zbierała informacje wywiadowcze dotyczące UK skupiając się przede wszystkim na Royal Navy. Kriegsmarine miała własną służbę wywiadu morskiego, Marinenachrichtendienst, która wykorzystywała namierzanie i ograniczone łamanie szyfrów do lokalizowania i identyfikowania okrętów wojennych wroga. Ministerstwo Spraw Zagranicznych posiadało własną siatkę wywiadowczą w swoich ambasadach i konsulatach, wraz w własnym biurem szyfrów – pracowano tam zwykle na źródłach jawnych i nie prowadzono współpracy z wojskowymi odpowiednikami. Aż do 1918 roku Ministerstwo wciąż uznawało swoje kody za nie do złamania. Podczas gdy Ministerstwo Wojny w Berlinie było odpowiedzialne za tworzenie kodów i szyfrów dla armii, nie istniała żadna instytucja zajmująca się jedynie kryptologią, która mogłaby być odpowiedzialna za zajęcie się kwestiami bezpieczeństwa.
W bitwie pod Tannenbergiem przeciwko dużo silniejszej armii rosyjskiej w 1914 roku, generał Paul von Hindenburg i jego kwatermistrz Ernst Ludendorff zwycięstwo zawdzięczali w dużej mierze parze amatorów w łamaniu szyfrów – porucznikowi Alexandrowi Beuermeisterowi oraz profesorowi filozofii Ludwigowi Deubnerowi. Deubner i Bauermeister zostali przydzieleni do Naczelnego Dowództwa Armii Wschodniej i współpracowali z biurem szyfrów austro-węgierskiego wywiadu wojskowego. Świeżo utworzony wywiad elektromagnetyczny w armii niemieckiej pozostawał ograniczony do frontu wschodniego. Dopiero później, gdy Hindenburg i Ludendorff stali na czele Naczelnego Dowództwa Armii, Oberste Heeresleitung (OHL), zaczęli integrować SIGINT na poziomie planowania strategicznego. Marynarka podążyła za nimi w lutym 1916 roku tworząc własną komórkę rozpoznania elektromagnetycznego i tworząc centrum przechwytywania i łamania kodów w Naumunster. Do tej pory jakiekolwiek sukcesy w łamaniu kodów, Niemcy zawdzięczali przypadkom inicjatywy pojedynczych jednostek lub błędów popełnianych przez wrogów.
Przełom nastąpił wiosną 1917 roku. Szef telegrafii polowej podlegający pod głównego kwatermistrza, został przemianowany na Nachrichtenchef co Childs przetłumaczył jako: „Główny Oficer Sygnałów”. Nachrichtenchef był odpowiedzialny za wszystkie formy komunikacji telefonicznej, telegraficznej, bezprzewodowej oraz używanie kodów i szyfrów.
Na szczeblu strategicznym kontrolę nad Abteilung IIIb zachował Szef Sztabu Generalnego Armii Polowej odpowiedzialny za planowanie operacyjne. Departament ten, oprócz klasycznego wywiadu wojskoweg, pełnił również funkcję policji politycznej w Niemczech oraz cenzora prasy. Ocena informacji wywiadowczych zebranych z SIGINT na temat armii wroga trafiała bezpośrednio do Nachrichtenabteilung, który w 1917 roku został przemianowany na Departament Wojsk Zagranicznych oraz posiadał dwie sekcje: wschodnią i zachodnią.
Według dawnego kryptologa Hermanna Stutzela Stacja Deszyfrująca w Naczelnym Dowództwie Armii miała trzy sekcje:
- Departament Wojsk Zagranicznych dokonujący oceny danych wywiadowczych przekazanych przez stacje przechwytujące. Skupili się na kodach okopów, ustalaniu współrzędnych oraz rozkazach bojowych wroga.
- Druga sekcja pracowała nad kodami polowymi dla armii niemieckiej
- Trzecia sekcja monitorowała ruch dyplomatyczny i pracowała nad łamaniem kodów i szyfrów dyplomatycznych. Na jej czele stanął właśnie Hermann Stutzel.
W 1918 roku Stutzel podjął inicjatywę monitorowania ruchu między MSZ a jego ambasadą w Madrycie i ujawnił podatność niemieckich kodów dyplomatycznych. Jednak pomimo skandalu jaki wybuchł po opublikowaniu telegramu Zimmermanna (który w 1917 roku wciągnął USA do wojny z państwami centralnymi) i pomimo pracy Stutzela, MSZ wciąż utrzymywało, że jego kody są nie do złamania. Twierdziło również, że wyciek wiadomości Zimmermanna był spowodowany zdradą.
Podobna pewność co do bezpieczeństwa swoich kodów towarzyszyła również kryptografom Niemieckiej Armii. Wśród nich był porucznik Fritz Nebel, który służył w Wielkim Sztabie Generalnym w Spa. Specjalizował się on w grece oraz językach latynoskich jednak w momencie dołączania do batalionu telegraficznego, nie miał jakiegokolwiek przeszkolenia w zakresie kryptografii. Niemniej na początku 1918 roku otrzymał polecenie opracowania nowego, wysoko bezpiecznego szyfru polowego, który był potrzebny Niemcom do nadciągającej wiosennej ofensywy. Nebel opracował szyfr ADFGX, który później rozszerzył poprzez dodanie większej ilości symboli (ADFGVX).
Wiele lat później w 1960 roku na zjeździe dawnych kryptologów Niebel pierwszy raz spotkał Georgesa Poinvina, swojego byłego francuskiego oponenta. Był zszokowany kiedy Poinvin wyjaśnił mu sposób w jaki złamał szyfr ADFGVX oraz przechwyconą w maju 1918 roku wiadomość zawierającą istotne informacje strategiczne o niemieckich planach, mianowicie „Radiogram zwycięstwa”. Umożliwiło to aliantom zatrzymanie ofensywsy niemieckiej i odzyskanie inicjatywy na froncie zachodnim. Nebel wyznał później, że nie był „ani matematykiem ani inżynierem” w czasie opracowywania kodów. Owe zeznania potwierdzają surowy werdykt Kahna na temat niemieckiej kryptologii w czasach I wojny światowej.
"
   ]
  }
 ],
 "metadata": {
  "language_info": {
   "name": "python"
  },
  "orig_nbformat": 4
 },
 "nbformat": 4,
 "nbformat_minor": 2
}
