{
 "cells": [
  {
   "attachments": {},
   "cell_type": "markdown",
   "metadata": {},
   "source": [
    "# Wyniki działania zaimplementowanego szyfru z szyfrogramem (podrozdzial roboczy)\n",
    "\n",
    "\n",
    "Po podaniu tekstu, a poźniej ścieżki pliku z danymi do uzupełnienia szachownicy Polibiusza"
   ]
  }
 ],
 "metadata": {
  "language_info": {
   "name": "python"
  },
  "orig_nbformat": 4
 },
 "nbformat": 4,
 "nbformat_minor": 2
}
